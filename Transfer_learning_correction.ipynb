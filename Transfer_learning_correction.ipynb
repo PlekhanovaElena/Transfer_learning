{
 "cells": [
  {
   "cell_type": "markdown",
   "metadata": {
    "run_control": {
     "frozen": false,
     "read_only": false
    }
   },
   "source": [
    "# Initialisation"
   ]
  },
  {
   "cell_type": "markdown",
   "metadata": {
    "run_control": {
     "frozen": false,
     "read_only": false
    }
   },
   "source": [
    "## Preinitialisation"
   ]
  },
  {
   "cell_type": "code",
   "execution_count": null,
   "metadata": {
    "collapsed": true,
    "run_control": {
     "frozen": false,
     "read_only": false
    }
   },
   "outputs": [],
   "source": [
    "data = \"Div\""
   ]
  },
  {
   "cell_type": "code",
   "execution_count": null,
   "metadata": {
    "init_cell": true,
    "run_control": {
     "frozen": false,
     "read_only": false
    }
   },
   "outputs": [],
   "source": [
    "%matplotlib inline\n",
    "\n",
    "path_to_protein = \"./proteins_Hum\" + data + \"_bg.txt\"\n",
    "\n",
    "import numpy as np\n",
    "import pandas as pd\n",
    "import scipy.stats as st\n",
    "from math import *\n",
    "import matplotlib.pyplot as plt\n",
    "import seaborn as sns\n",
    "from sklearn import metrics\n",
    "from sklearn.metrics import accuracy_score\n",
    "from sklearn.ensemble import AdaBoostClassifier, RandomForestClassifier, BaggingClassifier, VotingClassifier\n",
    "from sklearn.naive_bayes import GaussianNB, MultinomialNB, BernoulliNB\n",
    "from sklearn.linear_model import LogisticRegression\n",
    "from sklearn.svm import LinearSVC, SVC\n",
    "from sklearn.pipeline import Pipeline\n",
    "from sklearn.preprocessing import Imputer\n",
    "from sklearn.model_selection import *\n",
    "from sklearn.neural_network import MLPClassifier\n",
    "%run Functions.py\n",
    "from deep_forest_utils import CascadeForest\n",
    "import random\n",
    "class ProbRandomForestClassifier(RandomForestClassifier):\n",
    "    def predict(self, X):\n",
    "        return RandomForestClassifier.predict_proba(self, X)"
   ]
  },
  {
   "cell_type": "code",
   "execution_count": null,
   "metadata": {
    "collapsed": true,
    "run_control": {
     "frozen": false,
     "read_only": false
    }
   },
   "outputs": [],
   "source": [
    "def reading(path, y_read = True):   \n",
    "    Datap = pd.read_csv(path, delimiter=\",\")\n",
    "    if y_read:\n",
    "        X, y = Datap.iloc[:, :(Datap.shape[1] - 1)], Datap.iloc[:, Datap.shape[1] - 1]\n",
    "    else:\n",
    "        X = Datap\n",
    "    continue_inds = (Datap.dtypes == np.float64) | (Datap.dtypes == np.int64)\n",
    "    X_float = X.ix[:, continue_inds]\n",
    "    X_factor = X.ix[:, np.invert(continue_inds)]\n",
    "    imp = Imputer(missing_values=\"NaN\", strategy=\"median\", axis=0)\n",
    "    X_full = pd.DataFrame(imp.fit_transform(X_float))\n",
    "    X_full.columns = X_float.columns\n",
    "    X_full.index = X_float.index\n",
    "    if y_read:\n",
    "        return X_full, y\n",
    "    else:\n",
    "        return X_full"
   ]
  },
  {
   "cell_type": "code",
   "execution_count": null,
   "metadata": {
    "collapsed": true,
    "run_control": {
     "frozen": false,
     "read_only": false
    }
   },
   "outputs": [],
   "source": [
    "def cv_wo_protein_intersection(path_to_acc = path_to_protein, n_cv = 5):\n",
    "    acc = pd.read_csv(path_to_acc, delimiter=\",\")\n",
    "    classnames, indices = np.unique(np.array(acc), return_inverse=True)\n",
    "    kf = KFold(n_splits= n_cv, shuffle=True)\n",
    "    acc_split = list(kf.split(np.arange(len(classnames))))\n",
    "    pdind = pd.Series(indices)\n",
    "    acc_ind = pd.Series(np.arange(len(acc)))\n",
    "    return [(np.array(acc_ind[pdind.isin(acc_split[i][0])]),\n",
    "             np.array(acc_ind[pdind.isin(acc_split[i][1])]))\n",
    "            for i in range(n_cv)]"
   ]
  },
  {
   "cell_type": "code",
   "execution_count": null,
   "metadata": {
    "collapsed": true,
    "run_control": {
     "frozen": false,
     "read_only": false
    }
   },
   "outputs": [],
   "source": [
    "def roc_plot(data_name, fpr, tpr, roc_auc, acc, lw = 2, n_clf = 9, save = False):\n",
    "    # -------- sorting --------\n",
    "    values = roc_auc\n",
    "    ind = Series(roc_auc).sort_values(ascending=False).index\n",
    "    # ----------------------------\n",
    "    colors = ['black', 'darkred', 'red', 'orange', 'gold', 'lime', 'green', 'blue', 'purple']\n",
    "    clf_names = ['Deep Forest', 'Neural network', 'Logistic Regression', 'Gaussian NB (GNB)', \n",
    "                 'Random Forest', 'Boosted GNB', 'Gaussian SVM', 'Linear SVM', 'Polynomial SVM'] \n",
    "    for i, col in zip(ind, colors):\n",
    "        plt.plot(fpr[i], tpr[i], color=col,\n",
    "             lw=lw, label=\"{}: AUC = {: .3f}, acc = {: .3f}\".format(clf_names[i], roc_auc[i], acc[i]))\n",
    "    sns.set_style(\"whitegrid\")\n",
    "    sns.set_context(\"talk\")\n",
    "    plt.plot([0, 1], [0, 1], color='grey', lw=lw, linestyle='--')\n",
    "    plt.xlim([0.0, 1.0])\n",
    "    plt.ylim([0.0, 1.003])\n",
    "    plt.xlabel('False Positive Rate')\n",
    "    plt.ylabel('True Positive Rate')\n",
    "    plt.title('Roc curves of Hum' + data_name + ' dataset')\n",
    "    plt.legend(loc=\"lower right\")\n",
    "    plt.xticks(np.arange(0., 1., 0.1))\n",
    "    plt.yticks(np.arange(0., 1., 0.1))\n",
    "    plt.rcParams[\"figure.figsize\"] = [11,11]\n",
    "    if save == True:\n",
    "        plt.savefig('./Hum' + data_name + '_roc.png')\n",
    "        plt.savefig('./Hum' + data_name + '_roc.pdf')\n",
    "        plt.savefig('./Hum' + data_name + '_roc.svg')"
   ]
  },
  {
   "cell_type": "markdown",
   "metadata": {
    "run_control": {
     "frozen": false,
     "read_only": false
    }
   },
   "source": [
    "## Reading"
   ]
  },
  {
   "cell_type": "code",
   "execution_count": null,
   "metadata": {
    "collapsed": true,
    "run_control": {
     "frozen": false,
     "read_only": false
    },
    "scrolled": true
   },
   "outputs": [],
   "source": [
    "Xvar, yvar = reading(\"./Data_HumVar_bg.txt\")\n",
    "Xdiv, ydiv = reading(\"./Data_HumDiv_bg.txt\")\n",
    "Xd, yd = reading(\"./Data_Dog_bg.txt\")\n",
    "Xm, ym = reading(\"./Data_Mouse.txt\")"
   ]
  },
  {
   "cell_type": "markdown",
   "metadata": {
    "run_control": {
     "frozen": false,
     "read_only": false
    }
   },
   "source": [
    "## Classifiers parameters"
   ]
  },
  {
   "cell_type": "code",
   "execution_count": null,
   "metadata": {
    "collapsed": true,
    "run_control": {
     "frozen": false,
     "read_only": false
    },
    "scrolled": true
   },
   "outputs": [],
   "source": [
    "if data == \"Var\":\n",
    "    svp = SVC(C=6000, coef0=0.01, kernel='poly')\n",
    "    gnb = GaussianNB()\n",
    "    svr = SVC(C = 10000, kernel='rbf')\n",
    "    svm = LinearSVC(C=8)\n",
    "    lr = LogisticRegression(C = 5)\n",
    "    rf = RandomForestClassifier(n_estimators=2500)\n",
    "    bnb = AdaBoostClassifier(base_estimator=gnb, n_estimators=50, algorithm='SAMME.R')\n",
    "    nn = MLPClassifier(solver='adam', alpha=0.1, hidden_layer_sizes=(30, 70, 10), random_state=1)\n",
    "\n",
    "elif data == \"Div\":\n",
    "    svp = SVC(C=9000, coef0=0.1, kernel='poly')\n",
    "    gnb = GaussianNB()\n",
    "    svr = SVC(C = 18000, kernel='rbf')\n",
    "    svm = LinearSVC(C=17)\n",
    "    lr = LogisticRegression(C = 130)\n",
    "    rf = RandomForestClassifier(n_estimators=1200)\n",
    "    bnb = AdaBoostClassifier(base_estimator=gnb, n_estimators=3, algorithm='SAMME.R')\n",
    "    nn = MLPClassifier(solver='adam', alpha=0.01, hidden_layer_sizes=(90, 20), random_state=1)\n"
   ]
  },
  {
   "cell_type": "markdown",
   "metadata": {
    "run_control": {
     "frozen": false,
     "read_only": false
    }
   },
   "source": [
    "# Inductive transfer learning"
   ]
  },
  {
   "cell_type": "code",
   "execution_count": null,
   "metadata": {
    "collapsed": true,
    "run_control": {
     "frozen": false,
     "read_only": false
    }
   },
   "outputs": [],
   "source": [
    "Xmammal, ymammal = Xd, yd"
   ]
  },
  {
   "cell_type": "code",
   "execution_count": null,
   "metadata": {
    "collapsed": true,
    "run_control": {
     "frozen": false,
     "read_only": false
    }
   },
   "outputs": [],
   "source": [
    "# Definition of weights\n",
    "if data == \"Div\":\n",
    "    X_wo_bias = Xdiv\n",
    "    y_train = ydiv\n",
    "elif data == \"Var\":\n",
    "    X_wo_bias = Xvar\n",
    "    y_train =yvar\n",
    "dif = X_wo_bias.median() - Xmammal.median()\n",
    "X_train = X_wo_bias - dif\n",
    "wt0 = X_train.apply(lambda row: ((Xmammal.mean() - row)**2).sum(), axis = 1)\n",
    "wt = [exp( - x) for x in wt0]"
   ]
  },
  {
   "cell_type": "code",
   "execution_count": null,
   "metadata": {
    "run_control": {
     "frozen": false,
     "read_only": false
    },
    "scrolled": false
   },
   "outputs": [],
   "source": [
    "clf_names = ['Logistic Regression', 'Random Forest', 'Linear SVM', 'Polynomial SVM', 'Gaussian SVM']\n",
    "clfs = [lr, rf, svm, svp, svr]\n",
    "for clf, name in zip(clfs, clf_names):\n",
    "    clf.fit(X_wo_bias, y_train, sample_weight=wt)\n",
    "    y_pred = clf.predict(Xmammal)\n",
    "    score = accuracy_score(ymammal, y_pred)\n",
    "    print(\"Accuracy of %s = %.3f (with weights)\" % (name, score))\n",
    "    clf.fit(X_wo_bias, y_train)\n",
    "    score = clf.score(Xmammal, ymammal)\n",
    "    print(\"Accuracy of %s = %.3f (wo weights)\" % (name, score))"
   ]
  },
  {
   "cell_type": "markdown",
   "metadata": {
    "heading_collapsed": true,
    "run_control": {
     "frozen": false,
     "read_only": false
    }
   },
   "source": [
    "# Visualisation"
   ]
  },
  {
   "cell_type": "markdown",
   "metadata": {
    "heading_collapsed": true,
    "hidden": true,
    "run_control": {
     "frozen": false,
     "read_only": false
    }
   },
   "source": [
    "## Computations"
   ]
  },
  {
   "cell_type": "code",
   "execution_count": null,
   "metadata": {
    "collapsed": true,
    "hidden": true,
    "run_control": {
     "frozen": false,
     "read_only": false
    }
   },
   "outputs": [],
   "source": [
    "if data == \"Var\":\n",
    "    X_train = Xvar\n",
    "    y_train = yvar\n",
    "    svp = SVC(C=6000, coef0=0.01, kernel='poly')\n",
    "    gnb = GaussianNB()\n",
    "    svr = SVC(C = 10000, kernel='rbf')\n",
    "    svm = LinearSVC(C=8)\n",
    "    lr = LogisticRegression(C = 5)\n",
    "    rf = RandomForestClassifier(n_estimators=2500)\n",
    "    bnb = AdaBoostClassifier(base_estimator=gnb, n_estimators=50, algorithm='SAMME.R')\n",
    "    nn = MLPClassifier(solver='adam', alpha=0.1, hidden_layer_sizes=(30, 70, 10), random_state=1)\n",
    "\n",
    "elif data == \"Div\":\n",
    "    X_train = Xdiv\n",
    "    y_train = ydiv\n",
    "    svp = SVC(C=9000, coef0=0.1, kernel='poly')\n",
    "    gnb = GaussianNB()\n",
    "    svr = SVC(C = 18000, kernel='rbf')\n",
    "    svm = LinearSVC(C=17)\n",
    "    lr = LogisticRegression(C = 130)\n",
    "    rf = RandomForestClassifier(n_estimators=1200)\n",
    "    bnb = AdaBoostClassifier(base_estimator=gnb, n_estimators=3, algorithm='SAMME.R')\n",
    "    nn = MLPClassifier(solver='adam', alpha=0.01, hidden_layer_sizes=(90, 20), random_state=1)"
   ]
  },
  {
   "cell_type": "code",
   "execution_count": null,
   "metadata": {
    "collapsed": true,
    "hidden": true,
    "run_control": {
     "frozen": false,
     "read_only": false
    }
   },
   "outputs": [],
   "source": [
    "my_cv = cv_wo_protein_intersection()"
   ]
  },
  {
   "cell_type": "code",
   "execution_count": null,
   "metadata": {
    "code_folding": [],
    "hidden": true,
    "run_control": {
     "frozen": false,
     "read_only": false
    },
    "scrolled": true
   },
   "outputs": [],
   "source": [
    "fpr, thr, tpr, roc_auc, acc = [], [], [], [], []\n",
    "bnb = AdaBoostClassifier(base_estimator=gnb, n_estimators=50, algorithm='SAMME')\n",
    "\n",
    "N_estimators = 1000\n",
    "cascade_forest_params1 = RandomForestClassifier(n_estimators=N_estimators,min_samples_split=11,max_features=1,\n",
    "                                                n_jobs=-1).get_params()\n",
    "cascade_forest_params2 = RandomForestClassifier(n_estimators=N_estimators,min_samples_split=11,max_features='sqrt',\n",
    "                                                n_jobs=-1).get_params()\n",
    "cascade_params_list = [cascade_forest_params1,cascade_forest_params2]*2\n",
    "drf = CascadeForest(ProbRandomForestClassifier(),cascade_params_list,k_fold=my_cv)\n",
    "\n",
    "for clf in [drf]:\n",
    "    print(clf)\n",
    "    clf.fit(X_train, y_train)\n",
    "    score = clf.score\n",
    "    print(\"Accurancy = %.4f\" % score)\n",
    "    acc = acc + [score]\n",
    "    y_pred = clf.predict_proba_cv(X_train, y_train)\n",
    "    metr = metrics.roc_curve(y_train, y_pred[:,1])\n",
    "    fpr = fpr + [metr[0]]\n",
    "    tpr = tpr + [metr[1]]\n",
    "    roc_auc = roc_auc + [metrics.auc(metr[0], metr[1])]\n",
    "    \n",
    "for clf in [nn, lr, gnb, rf, bnb]:\n",
    "    print(clf)\n",
    "    score = cross_val_score(clf, X_train, y_train, cv=5, n_jobs=50).mean()\n",
    "    print(\"Accurancy = %.4f\" % score)\n",
    "    acc = acc + [score]\n",
    "    y_pred = cross_val_predict(clf, X_train, y_train, cv=my_cv, method=\"predict_proba\", n_jobs=50)\n",
    "    metr = metrics.roc_curve(y_train, y_pred[:, 1])\n",
    "    fpr = fpr + [metr[0]]\n",
    "    tpr = tpr + [metr[1]]\n",
    "    roc_auc = roc_auc + [metrics.auc(metr[0], metr[1])]\n",
    "\n",
    "for clf in [svr, svm, svp]:\n",
    "    print(clf)\n",
    "    score = cross_val_score(clf, X_train, y_train, cv=my_cv, n_jobs=50).mean()\n",
    "    print(\"Accurancy = %.4f\" % score)\n",
    "    acc = acc + [score]\n",
    "    y_pred = cross_val_predict(clf, X_train, y_train, cv=my_cv, method=\"decision_function\", n_jobs=50)\n",
    "    y_pred = (y_pred - min(y_pred)) / (max(y_pred) - min(y_pred))\n",
    "    metr = metrics.roc_curve(y_train, y_pred)\n",
    "    fpr = fpr + [metr[0]]\n",
    "    tpr = tpr + [metr[1]]\n",
    "    roc_auc = roc_auc + [metrics.auc(metr[0], metr[1])]"
   ]
  },
  {
   "cell_type": "code",
   "execution_count": null,
   "metadata": {
    "collapsed": true,
    "hidden": true,
    "run_control": {
     "frozen": false,
     "read_only": false
    }
   },
   "outputs": [],
   "source": [
    "if data == \"Var\":\n",
    "    fprvar = fpr\n",
    "    tprvar = tpr\n",
    "    roc_aucvar = roc_auc\n",
    "    accvar = acc\n",
    "elif data == \"Div\":\n",
    "    fprdiv = fpr\n",
    "    tprdiv = tpr\n",
    "    roc_aucdiv = roc_auc\n",
    "    accdiv = acc"
   ]
  },
  {
   "cell_type": "markdown",
   "metadata": {
    "heading_collapsed": true,
    "hidden": true,
    "run_control": {
     "frozen": false,
     "read_only": false
    }
   },
   "source": [
    "## Roc curves"
   ]
  },
  {
   "cell_type": "code",
   "execution_count": null,
   "metadata": {
    "hidden": true,
    "run_control": {
     "frozen": false,
     "read_only": false
    },
    "scrolled": false
   },
   "outputs": [],
   "source": [
    "# run at least two times to obtain nice plot\n",
    "roc_plot(data, fprdiv, tprdiv, roc_aucdiv, accdiv, lw = 2, n_clf = 9, save = False)"
   ]
  },
  {
   "cell_type": "code",
   "execution_count": null,
   "metadata": {
    "hidden": true,
    "run_control": {
     "frozen": false,
     "read_only": false
    },
    "scrolled": true
   },
   "outputs": [],
   "source": [
    "ind = Series(roc_auc).sort_values(ascending=False).index\n",
    "clf_names = ['Deep Forest', 'Neural network', 'Logistic Regression', 'Gaussian NB (GNB)', \n",
    "                 'Random Forest', 'Boosted GNB', 'Gaussian SVM', 'Linear SVM', 'Polynomial SVM']\n",
    "for i in range(9):\n",
    "    fp = fprvar[ind[i]]\n",
    "    tp = tprvar[ind[i]]\n",
    "    #print(clf_names[ind[i]])\n",
    "    print('{: .3f}'.format(accvar[ind[i]]))\n",
    "    print(' '.join(['%0.3f' % n for n in [tp[(fp > x - 0.005) & (fp < x + 0.005)].mean() for x in [0.05, 0.1, 0.2]]]))"
   ]
  }
 ],
 "metadata": {
  "kernelspec": {
   "display_name": "Python 3",
   "language": "python",
   "name": "python3"
  },
  "language_info": {
   "codemirror_mode": {
    "name": "ipython",
    "version": 3
   },
   "file_extension": ".py",
   "mimetype": "text/x-python",
   "name": "python",
   "nbconvert_exporter": "python",
   "pygments_lexer": "ipython3",
   "version": "3.5.2"
  },
  "notify_time": "5",
  "toc": {
   "colors": {
    "hover_highlight": "#DAA520",
    "running_highlight": "#FF0000",
    "selected_highlight": "#FFD700"
   },
   "moveMenuLeft": true,
   "nav_menu": {
    "height": "12px",
    "width": "252px"
   },
   "navigate_menu": true,
   "number_sections": true,
   "sideBar": false,
   "threshold": 4,
   "toc_cell": false,
   "toc_position": {
    "height": "355px",
    "left": "1px",
    "right": "1258px",
    "top": "108px",
    "width": "107px"
   },
   "toc_section_display": "block",
   "toc_window_display": true,
   "widenNotebook": false
  }
 },
 "nbformat": 4,
 "nbformat_minor": 1
}
