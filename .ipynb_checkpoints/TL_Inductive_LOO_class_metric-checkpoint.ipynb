{
 "cells": [
  {
   "cell_type": "markdown",
   "metadata": {
    "run_control": {
     "frozen": false,
     "read_only": false
    }
   },
   "source": [
    "# Initialisation"
   ]
  },
  {
   "cell_type": "markdown",
   "metadata": {
    "run_control": {
     "frozen": false,
     "read_only": false
    }
   },
   "source": [
    "## Preinitialisation"
   ]
  },
  {
   "cell_type": "code",
   "execution_count": 1,
   "metadata": {
    "run_control": {
     "frozen": false,
     "read_only": false
    }
   },
   "outputs": [],
   "source": [
    "## Please, launch the code from the directory that contains all the data files needed:\n",
    "##    data_HumDiv_bg.txt, data_HumVar_bg.txt, data_Dog_bg.txt, data_Mouse.txt, proteins_HumDiv_bg.txt, proteins_HumVar_bg.txt"
   ]
  },
  {
   "cell_type": "code",
   "execution_count": 2,
   "metadata": {
    "run_control": {
     "frozen": false,
     "read_only": false
    }
   },
   "outputs": [],
   "source": [
    "## Determine sourse (human) data to work with:\n",
    "##   \"Div\" stands for \"HumDiv\"\n",
    "##   \"Var\" stands for \"HumDiv\"\n",
    "data = \"Div\""
   ]
  },
  {
   "cell_type": "code",
   "execution_count": 3,
   "metadata": {
    "init_cell": true,
    "run_control": {
     "frozen": false,
     "read_only": false
    }
   },
   "outputs": [
    {
     "ename": "ImportError",
     "evalue": "cannot import name 'bincount'",
     "output_type": "error",
     "traceback": [
      "\u001b[0;31m---------------------------------------------------------------------------\u001b[0m",
      "\u001b[0;31mImportError\u001b[0m                               Traceback (most recent call last)",
      "\u001b[0;32m<ipython-input-3-9945888d148b>\u001b[0m in \u001b[0;36m<module>\u001b[0;34m\u001b[0m\n\u001b[1;32m     13\u001b[0m \u001b[0;32mimport\u001b[0m \u001b[0mseaborn\u001b[0m \u001b[0;32mas\u001b[0m \u001b[0msns\u001b[0m\u001b[0;34m\u001b[0m\u001b[0m\n\u001b[1;32m     14\u001b[0m \u001b[0;32mfrom\u001b[0m \u001b[0msklearn\u001b[0m \u001b[0;32mimport\u001b[0m \u001b[0mmetrics\u001b[0m\u001b[0;34m\u001b[0m\u001b[0m\n\u001b[0;32m---> 15\u001b[0;31m \u001b[0;32mfrom\u001b[0m \u001b[0msklearn\u001b[0m \u001b[0;32mimport\u001b[0m \u001b[0mcross_validation\u001b[0m\u001b[0;34m\u001b[0m\u001b[0m\n\u001b[0m\u001b[1;32m     16\u001b[0m \u001b[0;32mfrom\u001b[0m \u001b[0msklearn\u001b[0m\u001b[0;34m.\u001b[0m\u001b[0mmetrics\u001b[0m \u001b[0;32mimport\u001b[0m \u001b[0maccuracy_score\u001b[0m\u001b[0;34m\u001b[0m\u001b[0m\n\u001b[1;32m     17\u001b[0m \u001b[0;32mfrom\u001b[0m \u001b[0msklearn\u001b[0m\u001b[0;34m.\u001b[0m\u001b[0mensemble\u001b[0m \u001b[0;32mimport\u001b[0m \u001b[0mAdaBoostClassifier\u001b[0m\u001b[0;34m,\u001b[0m \u001b[0mRandomForestClassifier\u001b[0m\u001b[0;34m,\u001b[0m \u001b[0mBaggingClassifier\u001b[0m\u001b[0;34m,\u001b[0m \u001b[0mVotingClassifier\u001b[0m\u001b[0;34m\u001b[0m\u001b[0m\n",
      "\u001b[0;32m~/.local/lib/python3.5/site-packages/sklearn/cross_validation.py\u001b[0m in \u001b[0;36m<module>\u001b[0;34m\u001b[0m\n\u001b[1;32m     33\u001b[0m \u001b[0;32mfrom\u001b[0m \u001b[0;34m.\u001b[0m\u001b[0mexternals\u001b[0m\u001b[0;34m.\u001b[0m\u001b[0msix\u001b[0m\u001b[0;34m.\u001b[0m\u001b[0mmoves\u001b[0m \u001b[0;32mimport\u001b[0m \u001b[0mzip\u001b[0m\u001b[0;34m\u001b[0m\u001b[0m\n\u001b[1;32m     34\u001b[0m \u001b[0;32mfrom\u001b[0m \u001b[0;34m.\u001b[0m\u001b[0mmetrics\u001b[0m\u001b[0;34m.\u001b[0m\u001b[0mscorer\u001b[0m \u001b[0;32mimport\u001b[0m \u001b[0mcheck_scoring\u001b[0m\u001b[0;34m\u001b[0m\u001b[0m\n\u001b[0;32m---> 35\u001b[0;31m \u001b[0;32mfrom\u001b[0m \u001b[0;34m.\u001b[0m\u001b[0mutils\u001b[0m\u001b[0;34m.\u001b[0m\u001b[0mfixes\u001b[0m \u001b[0;32mimport\u001b[0m \u001b[0mbincount\u001b[0m\u001b[0;34m\u001b[0m\u001b[0m\n\u001b[0m\u001b[1;32m     36\u001b[0m \u001b[0;32mfrom\u001b[0m \u001b[0;34m.\u001b[0m\u001b[0mgaussian_process\u001b[0m\u001b[0;34m.\u001b[0m\u001b[0mkernels\u001b[0m \u001b[0;32mimport\u001b[0m \u001b[0mKernel\u001b[0m \u001b[0;32mas\u001b[0m \u001b[0mGPKernel\u001b[0m\u001b[0;34m\u001b[0m\u001b[0m\n\u001b[1;32m     37\u001b[0m \u001b[0;32mfrom\u001b[0m \u001b[0;34m.\u001b[0m\u001b[0mexceptions\u001b[0m \u001b[0;32mimport\u001b[0m \u001b[0mFitFailedWarning\u001b[0m\u001b[0;34m\u001b[0m\u001b[0m\n",
      "\u001b[0;31mImportError\u001b[0m: cannot import name 'bincount'"
     ]
    }
   ],
   "source": [
    "## Importing all librares and functions\n",
    "%matplotlib inline\n",
    "\n",
    "# Create path to the protein that is needed in 5-fold cross validation without protein intersection\n",
    "\n",
    "path_to_protein = \"./proteins_Hum\" + data + \"_bg.txt\"\n",
    "\n",
    "import numpy as np\n",
    "import pandas as pd\n",
    "import scipy.stats as st\n",
    "from math import *\n",
    "import matplotlib.pyplot as plt\n",
    "import seaborn as sns\n",
    "from sklearn import metrics\n",
    "from sklearn import cross_validation\n",
    "from sklearn.metrics import accuracy_score\n",
    "from sklearn.ensemble import AdaBoostClassifier, RandomForestClassifier, BaggingClassifier, VotingClassifier\n",
    "from sklearn.naive_bayes import GaussianNB, MultinomialNB, BernoulliNB\n",
    "from sklearn.linear_model import LogisticRegression\n",
    "from sklearn.svm import LinearSVC, SVC\n",
    "from sklearn.pipeline import Pipeline\n",
    "from sklearn.preprocessing import Imputer\n",
    "from sklearn.model_selection import *\n",
    "from sklearn.neural_network import MLPClassifier\n",
    "%run Functions.py\n",
    "from deep_forest_utils import CascadeForest\n",
    "import random\n",
    "class ProbRandomForestClassifier(RandomForestClassifier):\n",
    "    def predict(self, X):\n",
    "        return RandomForestClassifier.predict_proba(self, X)"
   ]
  },
  {
   "cell_type": "code",
   "execution_count": 5,
   "metadata": {
    "run_control": {
     "frozen": false,
     "read_only": false
    }
   },
   "outputs": [],
   "source": [
    "## Function that reads csv table with sourse or target data, separate it to X and y (if available)\n",
    "def reading(path, y_read = True):   \n",
    "    Datap = pd.read_csv(path, delimiter=\",\")\n",
    "    if y_read:\n",
    "        X, y = Datap.iloc[:, :(Datap.shape[1] - 1)], Datap.iloc[:, Datap.shape[1] - 1]\n",
    "    else:\n",
    "        X = Datap\n",
    "    continue_inds = (Datap.dtypes == np.float64) | (Datap.dtypes == np.int64)\n",
    "    X_float = X.ix[:, continue_inds]\n",
    "    X_factor = X.ix[:, np.invert(continue_inds)]\n",
    "    imp = Imputer(missing_values=\"NaN\", strategy=\"median\", axis=0)\n",
    "    X_full = pd.DataFrame(imp.fit_transform(X_float))\n",
    "    X_full.columns = X_float.columns\n",
    "    X_full.index = X_float.index\n",
    "    if y_read:\n",
    "        return X_full, y\n",
    "    else:\n",
    "        return X_full"
   ]
  },
  {
   "cell_type": "code",
   "execution_count": 6,
   "metadata": {
    "run_control": {
     "frozen": false,
     "read_only": false
    }
   },
   "outputs": [],
   "source": [
    "## Function that separates training sample into 5 parts, so there are mutations from different proteins in different parts\n",
    "def cv_wo_protein_intersection(path_to_acc = path_to_protein, n_cv = 5):\n",
    "    acc = pd.read_csv(path_to_acc, delimiter=\",\")\n",
    "    classnames, indices = np.unique(np.array(acc), return_inverse=True)\n",
    "    kf = KFold(n_splits= n_cv, shuffle=True)\n",
    "    acc_split = list(kf.split(np.arange(len(classnames))))\n",
    "    pdind = pd.Series(indices)\n",
    "    acc_ind = pd.Series(np.arange(len(acc)))\n",
    "    return [(np.array(acc_ind[pdind.isin(acc_split[i][0])]),\n",
    "             np.array(acc_ind[pdind.isin(acc_split[i][1])]))\n",
    "            for i in range(n_cv)]"
   ]
  },
  {
   "cell_type": "code",
   "execution_count": 7,
   "metadata": {
    "run_control": {
     "frozen": false,
     "read_only": false
    }
   },
   "outputs": [],
   "source": [
    "## Function that creates roc plots for all classifiers on sourse data. The input contains: \n",
    "## name of sourse data (\"Div\" or \"Var\"), false positive rates, true positive rates, AUC metric, accuracy metric, \n",
    "## size of lines in the plot, number of classifiers, and whether to save the images.\n",
    "def roc_plot(data_name, fpr, tpr, roc_auc, acc, lw = 2, n_clf = 9, save = False):\n",
    "    # -------- sorting --------\n",
    "    values = roc_auc\n",
    "    ind = Series(roc_auc).sort_values(ascending=False).index\n",
    "    # ----------------------------\n",
    "    colors = ['black', 'darkred', 'red', 'orange', 'gold', 'lime', 'green', 'blue', 'purple']\n",
    "    clf_names = ['Deep Forest', 'Neural network', 'Logistic Regression', 'Gaussian NB (GNB)', \n",
    "                 'Random Forest', 'Boosted GNB', 'Gaussian SVM', 'Linear SVM', 'Polynomial SVM'] \n",
    "    for i, col in zip(ind, colors):\n",
    "        plt.plot(fpr[i], tpr[i], color=col,\n",
    "             lw=lw, label=\"{}: AUC = {: .3f}, acc = {: .3f}\".format(clf_names[i], roc_auc[i], acc[i]))\n",
    "    sns.set_style(\"whitegrid\")\n",
    "    sns.set_context(\"talk\")\n",
    "    plt.plot([0, 1], [0, 1], color='grey', lw=lw, linestyle='--')\n",
    "    plt.xlim([0.0, 1.0])\n",
    "    plt.ylim([0.0, 1.003])\n",
    "    plt.xlabel('False Positive Rate')\n",
    "    plt.ylabel('True Positive Rate')\n",
    "    plt.title('Roc curves of Hum' + data_name + ' dataset')\n",
    "    plt.legend(loc=\"lower right\")\n",
    "    plt.xticks(np.arange(0., 1., 0.1))\n",
    "    plt.yticks(np.arange(0., 1., 0.1))\n",
    "    plt.rcParams[\"figure.figsize\"] = [11,11]\n",
    "    if save == True:\n",
    "        plt.savefig('./Hum' + data_name + '_roc.png')\n",
    "        plt.savefig('./Hum' + data_name + '_roc.pdf')\n",
    "        plt.savefig('./Hum' + data_name + '_roc.svg')"
   ]
  },
  {
   "cell_type": "markdown",
   "metadata": {
    "run_control": {
     "frozen": false,
     "read_only": false
    }
   },
   "source": [
    "## Reading"
   ]
  },
  {
   "cell_type": "code",
   "execution_count": 8,
   "metadata": {
    "run_control": {
     "frozen": false,
     "read_only": false
    },
    "scrolled": false
   },
   "outputs": [
    {
     "name": "stderr",
     "output_type": "stream",
     "text": [
      "/home/ubuntu/.local/lib/python3.5/site-packages/ipykernel_launcher.py:9: DeprecationWarning: \n",
      ".ix is deprecated. Please use\n",
      ".loc for label based indexing or\n",
      ".iloc for positional indexing\n",
      "\n",
      "See the documentation here:\n",
      "http://pandas.pydata.org/pandas-docs/stable/indexing.html#ix-indexer-is-deprecated\n",
      "  if __name__ == '__main__':\n",
      "/home/ubuntu/.local/lib/python3.5/site-packages/ipykernel_launcher.py:10: DeprecationWarning: \n",
      ".ix is deprecated. Please use\n",
      ".loc for label based indexing or\n",
      ".iloc for positional indexing\n",
      "\n",
      "See the documentation here:\n",
      "http://pandas.pydata.org/pandas-docs/stable/indexing.html#ix-indexer-is-deprecated\n",
      "  # Remove the CWD from sys.path while we load stuff.\n"
     ]
    }
   ],
   "source": [
    "## Reading sourse and target data\n",
    "## HumDiv, HumVar:\n",
    "Xvar, yvar = reading(\"./Data_HumVar_bg.txt\")\n",
    "Xdiv, ydiv = reading(\"./Data_HumDiv_bg.txt\")\n",
    "## Dog, Mouse:\n",
    "Xd, yd = reading(\"./Data_Dog_bg.txt\")\n",
    "Xm, ym = reading(\"./Data_Mouse.txt\")"
   ]
  },
  {
   "cell_type": "markdown",
   "metadata": {
    "run_control": {
     "frozen": false,
     "read_only": false
    }
   },
   "source": [
    "## Classifiers parameters"
   ]
  },
  {
   "cell_type": "code",
   "execution_count": 9,
   "metadata": {
    "run_control": {
     "frozen": false,
     "read_only": false
    },
    "scrolled": true
   },
   "outputs": [],
   "source": [
    "## Define classifiers with parameters, optimal for predicting sourse data\n",
    "if data == \"Var\":\n",
    "    svp = SVC(C=6000, coef0=0.01, kernel='poly')\n",
    "    gnb = GaussianNB()\n",
    "    svr = SVC(C = 10000, kernel='rbf')\n",
    "    svm = LinearSVC(C=8)\n",
    "    lr = LogisticRegression(C = 5)\n",
    "    rf = RandomForestClassifier(n_estimators=2500)\n",
    "    bnb = AdaBoostClassifier(base_estimator=gnb, n_estimators=50, algorithm='SAMME.R')\n",
    "    nn = MLPClassifier(solver='adam', alpha=0.1, hidden_layer_sizes=(30, 70, 10), random_state=1)\n",
    "\n",
    "elif data == \"Div\":\n",
    "    svp = SVC(C=9000, coef0=0.1, kernel='poly')\n",
    "    gnb = GaussianNB()\n",
    "    svr = SVC(C = 18000, kernel='rbf')\n",
    "    svm = LinearSVC(C=17)\n",
    "    lr = LogisticRegression(C = 130)\n",
    "    rf = RandomForestClassifier(n_estimators=1200)\n",
    "    bnb = AdaBoostClassifier(base_estimator=gnb, n_estimators=3, algorithm='SAMME.R')\n",
    "    nn = MLPClassifier(solver='adam', alpha=0.01, hidden_layer_sizes=(90, 20), random_state=1)\n"
   ]
  },
  {
   "cell_type": "markdown",
   "metadata": {
    "run_control": {
     "frozen": false,
     "read_only": false
    }
   },
   "source": [
    "# Inductive transfer learning"
   ]
  },
  {
   "cell_type": "code",
   "execution_count": 10,
   "metadata": {
    "run_control": {
     "frozen": false,
     "read_only": false
    }
   },
   "outputs": [],
   "source": [
    "## Determine if we want to classify Dog data (Xd, yd) or Mouse data (Xm, ym)\n",
    "Xmammal = Xd\n",
    "ymammal = yd"
   ]
  },
  {
   "cell_type": "code",
   "execution_count": 11,
   "metadata": {
    "run_control": {
     "frozen": false,
     "read_only": false
    }
   },
   "outputs": [],
   "source": [
    "## Determine what is training data in this case, depending on the value of \"data\" parameter, defined above.\n",
    "if data == \"Div\":\n",
    "    X_train = Xdiv\n",
    "    y_train = ydiv\n",
    "elif data == \"Var\":\n",
    "    X_train = Xvar\n",
    "    y_train =yvar"
   ]
  },
  {
   "cell_type": "code",
   "execution_count": 12,
   "metadata": {
    "run_control": {
     "frozen": false,
     "read_only": false
    }
   },
   "outputs": [],
   "source": [
    "## Function scor computes error (1 - accuracy) for given classifier with given weights, train and test source and target data\n",
    "def scor_w(ind, clf, X_train = X_train, y_train = y_train, Xmammal = Xmammal, ymammal = ymammal):\n",
    "    Xmammal_test = Xmammal.take([ind])\n",
    "    ymammal_test = ymammal.take([ind])\n",
    "    Xmammal_train = Xmammal.drop([ind])\n",
    "    ymammal_train = ymammal.drop([ind])\n",
    "    # Calculation of distances for 0 class\n",
    "    mammal_mean0 = Xmammal_train[ymammal_train == 0].mean()\n",
    "    wt0 = X_train[y_train == 0].apply(lambda row: ((mammal_mean0 - row)**2).sum(), axis = 1)\n",
    "\n",
    "    # Calculation of distances for 1 class\n",
    "    mammal_mean1 = Xmammal_train[ymammal_train == 1].mean()\n",
    "    wt1 = X_train[y_train == 1].apply(lambda row: ((mammal_mean1 - row)**2).sum(), axis = 1)\n",
    "\n",
    "    # Calculation of exponential weights\n",
    "    wt_train = [exp( - x) for x in wt0.append(wt1)]\n",
    "\n",
    "    ## Definition of the vector with all weights: 1 for samples in training target data, wt_train for samples in source data\n",
    "    wt_all = [1]*len(ymammal_train) + wt_train\n",
    "    \n",
    "    clf.fit(X = Xmammal_train.append(X_train, ignore_index=True) , \\\n",
    "                                       y = ymammal_train.append(y_train, ignore_index=True), \\\n",
    "                                       sample_weight = wt_all)\n",
    "    sc = clf.score(Xmammal_test, ymammal_test)\n",
    "    \n",
    "    return sc"
   ]
  },
  {
   "cell_type": "code",
   "execution_count": 13,
   "metadata": {},
   "outputs": [],
   "source": [
    "import multiprocessing as mp\n",
    "from functools import partial\n"
   ]
  },
  {
   "cell_type": "code",
   "execution_count": 19,
   "metadata": {
    "run_control": {
     "frozen": false,
     "read_only": false
    }
   },
   "outputs": [
    {
     "name": "stdout",
     "output_type": "stream",
     "text": [
      "Error of LR = 0.174 (with weights)\n",
      "Error of LR = 0.087 (wo weights)\n",
      "Error of RF = 0.097 (with weights)\n",
      "Error of RF = 0.082 (wo weights)\n",
      "Error of LS = 0.275 (with weights)\n",
      "Error of LS = 0.092 (wo weights)\n",
      "Error of PS = 0.092 (with weights)\n",
      "Error of PS = 0.101 (wo weights)\n",
      "Error of GS = 0.101 (with weights)\n",
      "Error of GS = 0.130 (wo weights)\n",
      "CPU times: user 2.28 s, sys: 1.92 s, total: 4.2 s\n",
      "Wall time: 7min 25s\n"
     ]
    }
   ],
   "source": [
    "%%time\n",
    "## Application of classifiers with weights and without weights\n",
    "clf_names = ['LR','RF', 'LS', 'PS', 'GS']\n",
    "clfs = [lr, rf, svm, svp, svr]\n",
    "for clf, name in zip(clfs, clf_names):\n",
    "    with mp.Pool(32) as p: vect_score = Series(p.map(partial(scor_w, clf = clf), list(range(len(ymammal)))))\n",
    "    error = 1 - sum(vect_score)/len(vect_score)\n",
    "    print(\"Error of %s = %.3f (with weights)\" % (name, error))\n",
    "    \n",
    "    vect_score = cross_val_score(clf , X = Xmammal , y = ymammal, n_jobs = 32, cv = cross_validation.LeaveOneOut(len(ymammal)))\n",
    "    error = 1 - sum(vect_score)/len(vect_score)\n",
    "    print(\"Error of %s = %.3f (wo weights)\" % (name, error))"
   ]
  },
  {
   "cell_type": "markdown",
   "metadata": {
    "run_control": {
     "frozen": false,
     "read_only": false
    }
   },
   "source": [
    "# Visualisation"
   ]
  },
  {
   "cell_type": "markdown",
   "metadata": {
    "run_control": {
     "frozen": false,
     "read_only": false
    }
   },
   "source": [
    "Constructing ROC-curves for source data"
   ]
  },
  {
   "cell_type": "markdown",
   "metadata": {
    "run_control": {
     "frozen": false,
     "read_only": false
    }
   },
   "source": [
    "## Computations"
   ]
  },
  {
   "cell_type": "code",
   "execution_count": 14,
   "metadata": {
    "collapsed": true,
    "run_control": {
     "frozen": false,
     "read_only": false
    }
   },
   "outputs": [],
   "source": [
    "## Definition of 5-fold cross validation without protein intersection\n",
    "my_cv = cv_wo_protein_intersection()"
   ]
  },
  {
   "cell_type": "code",
   "execution_count": 15,
   "metadata": {
    "code_folding": [],
    "run_control": {
     "frozen": false,
     "read_only": false
    },
    "scrolled": true
   },
   "outputs": [
    {
     "name": "stdout",
     "output_type": "stream",
     "text": [
      "<deep_forest_utils.CascadeForest object at 0x7f0e1f59d0f0>\n",
      "level 1, CV accuracy: 0.949935\n",
      "Accurancy = 0.9499\n",
      "MLPClassifier(activation='relu', alpha=0.01, batch_size='auto', beta_1=0.9,\n",
      "       beta_2=0.999, early_stopping=False, epsilon=1e-08,\n",
      "       hidden_layer_sizes=(90, 20), learning_rate='constant',\n",
      "       learning_rate_init=0.001, max_iter=200, momentum=0.9,\n",
      "       nesterovs_momentum=True, power_t=0.5, random_state=1, shuffle=True,\n",
      "       solver='adam', tol=0.0001, validation_fraction=0.1, verbose=False,\n",
      "       warm_start=False)\n",
      "Accurancy = 0.9389\n",
      "LogisticRegression(C=130, class_weight=None, dual=False, fit_intercept=True,\n",
      "          intercept_scaling=1, max_iter=100, multi_class='ovr', n_jobs=1,\n",
      "          penalty='l2', random_state=None, solver='liblinear', tol=0.0001,\n",
      "          verbose=0, warm_start=False)\n",
      "Accurancy = 0.9308\n",
      "GaussianNB(priors=None)\n",
      "Accurancy = 0.8050\n",
      "RandomForestClassifier(bootstrap=True, class_weight=None, criterion='gini',\n",
      "            max_depth=None, max_features='auto', max_leaf_nodes=None,\n",
      "            min_impurity_split=1e-07, min_samples_leaf=1,\n",
      "            min_samples_split=2, min_weight_fraction_leaf=0.0,\n",
      "            n_estimators=1200, n_jobs=1, oob_score=False,\n",
      "            random_state=None, verbose=0, warm_start=False)\n",
      "Accurancy = 0.9396\n",
      "AdaBoostClassifier(algorithm='SAMME', base_estimator=GaussianNB(priors=None),\n",
      "          learning_rate=1.0, n_estimators=50, random_state=None)\n",
      "Accurancy = 0.8050\n",
      "SVC(C=18000, cache_size=200, class_weight=None, coef0=0.0,\n",
      "  decision_function_shape=None, degree=3, gamma='auto', kernel='rbf',\n",
      "  max_iter=-1, probability=False, random_state=None, shrinking=True,\n",
      "  tol=0.001, verbose=False)\n",
      "Accurancy = 0.9405\n",
      "LinearSVC(C=17, class_weight=None, dual=True, fit_intercept=True,\n",
      "     intercept_scaling=1, loss='squared_hinge', max_iter=1000,\n",
      "     multi_class='ovr', penalty='l2', random_state=None, tol=0.0001,\n",
      "     verbose=0)\n",
      "Accurancy = 0.9322\n",
      "SVC(C=9000, cache_size=200, class_weight=None, coef0=0.1,\n",
      "  decision_function_shape=None, degree=3, gamma='auto', kernel='poly',\n",
      "  max_iter=-1, probability=False, random_state=None, shrinking=True,\n",
      "  tol=0.001, verbose=False)\n",
      "Accurancy = 0.9401\n"
     ]
    }
   ],
   "source": [
    "## Computation of false positive rate, true positive rate, AUC-scores and accuracy of each classifier\n",
    "fpr, thr, tpr, roc_auc, acc = [], [], [], [], []\n",
    "bnb = AdaBoostClassifier(base_estimator=gnb, n_estimators=50, algorithm='SAMME')\n",
    "\n",
    "N_estimators = 1000\n",
    "cascade_forest_params1 = RandomForestClassifier(n_estimators=N_estimators,min_samples_split=11,max_features=1,\n",
    "                                                n_jobs=-1).get_params()\n",
    "cascade_forest_params2 = RandomForestClassifier(n_estimators=N_estimators,min_samples_split=11,max_features='sqrt',\n",
    "                                                n_jobs=-1).get_params()\n",
    "cascade_params_list = [cascade_forest_params1,cascade_forest_params2]*2\n",
    "drf = CascadeForest(ProbRandomForestClassifier(),cascade_params_list,k_fold=my_cv)\n",
    "\n",
    "for clf in [drf]:\n",
    "    print(clf)\n",
    "    clf.fit(X_train, y_train)\n",
    "    score = clf.score\n",
    "    print(\"Accurancy = %.4f\" % score)\n",
    "    acc = acc + [score]\n",
    "    y_pred = clf.predict_proba_cv(X_train, y_train)\n",
    "    metr = metrics.roc_curve(y_train, y_pred[:,1])\n",
    "    fpr = fpr + [metr[0]]\n",
    "    tpr = tpr + [metr[1]]\n",
    "    roc_auc = roc_auc + [metrics.auc(metr[0], metr[1])]\n",
    "    \n",
    "for clf in [nn, lr, gnb, rf, bnb]:\n",
    "    print(clf)\n",
    "    score = cross_val_score(clf, X_train, y_train, cv=5, n_jobs=50).mean()\n",
    "    print(\"Accurancy = %.4f\" % score)\n",
    "    acc = acc + [score]\n",
    "    y_pred = cross_val_predict(clf, X_train, y_train, cv=my_cv, method=\"predict_proba\", n_jobs=50)\n",
    "    metr = metrics.roc_curve(y_train, y_pred[:, 1])\n",
    "    fpr = fpr + [metr[0]]\n",
    "    tpr = tpr + [metr[1]]\n",
    "    roc_auc = roc_auc + [metrics.auc(metr[0], metr[1])]\n",
    "\n",
    "for clf in [svr, svm, svp]:\n",
    "    print(clf)\n",
    "    score = cross_val_score(clf, X_train, y_train, cv=my_cv, n_jobs=50).mean()\n",
    "    print(\"Accurancy = %.4f\" % score)\n",
    "    acc = acc + [score]\n",
    "    y_pred = cross_val_predict(clf, X_train, y_train, cv=my_cv, method=\"decision_function\", n_jobs=50)\n",
    "    y_pred = (y_pred - min(y_pred)) / (max(y_pred) - min(y_pred))\n",
    "    metr = metrics.roc_curve(y_train, y_pred)\n",
    "    fpr = fpr + [metr[0]]\n",
    "    tpr = tpr + [metr[1]]\n",
    "    roc_auc = roc_auc + [metrics.auc(metr[0], metr[1])]"
   ]
  },
  {
   "cell_type": "markdown",
   "metadata": {
    "run_control": {
     "frozen": false,
     "read_only": false
    }
   },
   "source": [
    "## Roc curves"
   ]
  },
  {
   "cell_type": "code",
   "execution_count": 18,
   "metadata": {
    "run_control": {
     "frozen": false,
     "read_only": false
    },
    "scrolled": true
   },
   "outputs": [
    {
     "data": {
      "image/png": "[encoded data removed]",
      "text/plain": [
       "<matplotlib.figure.Figure at 0x7f0e50c483c8>"
      ]
     },
     "metadata": {},
     "output_type": "display_data"
    }
   ],
   "source": [
    "# run at least two times to obtain nice plot\n",
    "roc_plot(data, fpr, tpr, roc_auc, acc, lw = 2, n_clf = 9, save = False)"
   ]
  },
  {
   "cell_type": "code",
   "execution_count": 17,
   "metadata": {
    "run_control": {
     "frozen": false,
     "read_only": false
    },
    "scrolled": true
   },
   "outputs": [
    {
     "name": "stdout",
     "output_type": "stream",
     "text": [
      "Deep Forest\n",
      " 0.950\n",
      "0.946 0.985 0.996\n",
      "Random Forest\n",
      " 0.940\n",
      "0.945 0.985 0.996\n",
      "Neural network\n",
      " 0.939\n",
      "0.913 0.970 0.994\n",
      "Gaussian SVM\n",
      " 0.940\n",
      "0.918 0.975 0.994\n",
      "Polynomial SVM\n",
      " 0.940\n",
      "0.918 0.973 0.994\n",
      "Linear SVM\n",
      " 0.932\n",
      "0.891 0.958 0.992\n",
      "Logistic Regression\n",
      " 0.931\n",
      "0.892 0.957 0.992\n",
      "Boosted GNB\n",
      " 0.805\n",
      "0.845 0.934 0.979\n",
      "Gaussian NB (GNB)\n",
      " 0.805\n",
      "0.789 0.923 0.976\n"
     ]
    }
   ],
   "source": [
    "## Printing accuracy scores and true positive rates, false positive rates for each classifier\n",
    "ind = Series(roc_auc).sort_values(ascending=False).index\n",
    "clf_names = ['Deep Forest', 'Neural network', 'Logistic Regression', 'Gaussian NB (GNB)', \n",
    "                 'Random Forest', 'Boosted GNB', 'Gaussian SVM', 'Linear SVM', 'Polynomial SVM']\n",
    "for i in range(9):\n",
    "    fp = fpr[ind[i]]\n",
    "    tp = tpr[ind[i]]\n",
    "    print(clf_names[ind[i]])\n",
    "    print('{: .3f}'.format(acc[ind[i]]))\n",
    "    print(' '.join(['%0.3f' % n for n in [tp[(fp > x - 0.005) & (fp < x + 0.005)].mean() for x in [0.05, 0.1, 0.2]]]))"
   ]
  }
 ],
 "metadata": {
  "kernelspec": {
   "display_name": "Python 3",
   "language": "python",
   "name": "python3"
  },
  "language_info": {
   "codemirror_mode": {
    "name": "ipython",
    "version": 3
   },
   "file_extension": ".py",
   "mimetype": "text/x-python",
   "name": "python",
   "nbconvert_exporter": "python",
   "pygments_lexer": "ipython3",
   "version": "3.5.2"
  },
  "notify_time": "5",
  "toc": {
   "colors": {
    "hover_highlight": "#DAA520",
    "running_highlight": "#FF0000",
    "selected_highlight": "#FFD700"
   },
   "moveMenuLeft": true,
   "nav_menu": {
    "height": "166px",
    "width": "252px"
   },
   "navigate_menu": true,
   "number_sections": true,
   "sideBar": true,
   "threshold": 4,
   "toc_cell": false,
   "toc_position": {
    "height": "475px",
    "left": "0px",
    "right": "1145.17px",
    "top": "107px",
    "width": "107px"
   },
   "toc_section_display": "block",
   "toc_window_display": true,
   "widenNotebook": false
  }
 },
 "nbformat": 4,
 "nbformat_minor": 1
}
